{
  "nbformat": 4,
  "nbformat_minor": 0,
  "metadata": {
    "colab": {
      "provenance": [],
      "include_colab_link": true
    },
    "kernelspec": {
      "name": "python3",
      "display_name": "Python 3"
    },
    "language_info": {
      "name": "python"
    }
  },
  "cells": [
    {
      "cell_type": "markdown",
      "metadata": {
        "id": "view-in-github",
        "colab_type": "text"
      },
      "source": [
        "<a href=\"https://colab.research.google.com/github/adapaania/PrepInsta-Data-Analysis-Internship/blob/main/Week%202/Week_2_Frog_and_Leap(Aania)_.ipynb\" target=\"_parent\"><img src=\"https://colab.research.google.com/assets/colab-badge.svg\" alt=\"Open In Colab\"/></a>"
      ]
    },
    {
      "cell_type": "code",
      "source": [
        "def print_board(frogs):\n",
        "    print(\" \".join(frogs))\n",
        "\n",
        "def valid_move(frogs, index, direction):\n",
        "\n",
        "    if direction == \"right\":\n",
        "        return index <= len(frogs) and (frogs[index + 1] == \"_\" or frogs[index + 2] == \"_\")\n",
        "    elif direction == \"left\":\n",
        "        return index > 0 and (frogs[index - 1] == \"_\" or frogs[index-2] == \"_\")\n",
        "\n",
        "def move_frog(frogs, index, direction):\n",
        "\n",
        "    if direction == \"right\":\n",
        "        frogs[index], frogs[index + 1] = frogs[index + 1], frogs[index]\n",
        "    elif direction == \"left\":\n",
        "        frogs[index], frogs[index - 1] = frogs[index - 1], frogs[index]\n",
        "\n",
        "def jump_over_frog(frogs, index, direction):\n",
        "\n",
        "    if direction == \"right\":\n",
        "        frogs[index], frogs[index + 2] = frogs[index + 2], frogs[index]\n",
        "    elif direction == \"left\":\n",
        "        frogs[index], frogs[index - 2] = frogs[index - 2], frogs[index]\n",
        "\n",
        "def game():\n",
        "\n",
        "    frogs = [\"G\", \"G\", \"G\", \"_\", \"B\", \"B\", \"B\"]\n",
        "    print(\"Welcome to the Frog Puzzle Game!\\n\")\n",
        "\n",
        "    while True:\n",
        "        print_board(frogs)\n",
        "\n",
        "        if frogs == [\"B\", \"B\", \"B\", \"_\", \"G\", \"G\", \"G\"]:\n",
        "            print(\"\\nCongratulations! You've solved the puzzle!\")\n",
        "            break\n",
        "\n",
        "        frog_index = int(input(\"\\nEnter the index of the frog you want to move (0-6): \"))\n",
        "\n",
        "        if frog_index < 0 or frog_index > 6:\n",
        "            print(\"Invalid input. Please enter a number between 0 and 6.\")\n",
        "            continue\n",
        "\n",
        "        if frogs[frog_index] == \"_\":\n",
        "            print(\"There's no frog on that rock. Choose another position.\")\n",
        "            continue\n",
        "\n",
        "        if frogs[frog_index] == \"G\":\n",
        "            direction = \"right\"\n",
        "        elif frogs[frog_index] == \"B\":\n",
        "            direction = \"left\"\n",
        "\n",
        "        if not valid_move(frogs, frog_index, direction):\n",
        "            print(\"Invalid move. The frog cannot jump there.\")\n",
        "            continue\n",
        "\n",
        "        if direction == \"right\" and frog_index < 5 and frogs[frog_index + 2] == \"_\":\n",
        "            jump_over_frog(frogs, frog_index, direction)\n",
        "        elif direction == \"left\" and frog_index > 1  and frogs[frog_index - 2] == \"_\":\n",
        "            jump_over_frog(frogs, frog_index, direction)\n",
        "        else:\n",
        "            move_frog(frogs, frog_index, direction)\n",
        "\n",
        "game()\n"
      ],
      "metadata": {
        "id": "202_FB0wXrrR",
        "colab": {
          "base_uri": "https://localhost:8080/"
        },
        "outputId": "e8708838-4af0-4765-e4e7-bf1d745ec211"
      },
      "execution_count": null,
      "outputs": [
        {
          "output_type": "stream",
          "name": "stdout",
          "text": [
            "Welcome to the Frog Puzzle Game!\n",
            "\n",
            "G G G _ B B B\n",
            "\n",
            "Enter the index of the frog you want to move (0-6): 2\n",
            "G G _ G B B B\n",
            "\n",
            "Enter the index of the frog you want to move (0-6): 4\n",
            "G G B G _ B B\n",
            "\n",
            "Enter the index of the frog you want to move (0-6): 5\n",
            "G G B G B _ B\n",
            "\n",
            "Enter the index of the frog you want to move (0-6): 3\n",
            "G G B _ B G B\n",
            "\n",
            "Enter the index of the frog you want to move (0-6): 1\n",
            "G _ B G B G B\n",
            "\n",
            "Enter the index of the frog you want to move (0-6): 0\n",
            "_ G B G B G B\n",
            "\n",
            "Enter the index of the frog you want to move (0-6): 2\n",
            "B G _ G B G B\n",
            "\n",
            "Enter the index of the frog you want to move (0-6): 4\n",
            "B G B G _ G B\n",
            "\n",
            "Enter the index of the frog you want to move (0-6): 6\n",
            "B G B G B G _\n",
            "\n",
            "Enter the index of the frog you want to move (0-6): 4\n",
            "Invalid move. The frog cannot jump there.\n",
            "B G B G B G _\n",
            "\n",
            "Enter the index of the frog you want to move (0-6): 5\n",
            "B G B G B _ G\n",
            "\n",
            "Enter the index of the frog you want to move (0-6): 3\n",
            "B G B _ B G G\n",
            "\n",
            "Enter the index of the frog you want to move (0-6): 1\n",
            "B _ B G B G G\n",
            "\n",
            "Enter the index of the frog you want to move (0-6): 2\n",
            "B B _ G B G G\n",
            "\n",
            "Enter the index of the frog you want to move (0-6): 4\n",
            "B B B G _ G G\n",
            "\n",
            "Enter the index of the frog you want to move (0-6): 3\n",
            "B B B _ G G G\n",
            "\n",
            "Congratulations! You've solved the puzzle!\n"
          ]
        }
      ]
    }
  ]
}